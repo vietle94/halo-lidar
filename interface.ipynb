{
 "cells": [
  {
   "cell_type": "code",
   "execution_count": 11,
   "metadata": {
    "jupyter": {
     "outputs_hidden": false,
     "source_hidden": false
    },
    "nteract": {
     "transient": {
      "deleting": false
     }
    }
   },
   "outputs": [],
   "source": [
    "import seaborn as sns\n",
    "import numpy as np\n",
    "import pandas as pd\n",
    "import matplotlib.pyplot as plt\n",
    "import halo_data as hd\n"
   ]
  },
  {
   "cell_type": "code",
   "execution_count": 12,
   "metadata": {
    "jupyter": {
     "outputs_hidden": false,
     "source_hidden": false
    },
    "nteract": {
     "transient": {
      "deleting": false
     }
    }
   },
   "outputs": [],
   "source": [
    "data = hd.getdata(\"C:/Users/LV/OneDrive - University of Helsinki/FMI/halo/53/depolarization/\")\n",
    "# data = hd.getdata(\"G:/OneDrive - University of Helsinki/FMI/halo/53/depolarization/\")\n",
    "# data = hd.getdata(r'G:\\OneDrive - University of Helsinki\\FMI\\halo\\53\\depolarization')\n"
   ]
  },
  {
   "cell_type": "code",
   "execution_count": 16,
   "metadata": {
    "jupyter": {
     "outputs_hidden": false,
     "source_hidden": false
    },
    "nteract": {
     "transient": {
      "deleting": false
     }
    }
   },
   "outputs": [],
   "source": [
    "file_name = next(data)\n",
    "df = hd.halo_data(file_name)\n",
    "# df.info\n",
    "# df.full_data\n",
    "# df.full_data_names\n",
    "# df.data\n",
    "# # Names of data\n",
    "# df.data_names\n",
    "# # More info\n",
    "# df.more_info\n",
    "# # Get meta data of each variable\n",
    "# df.meta_data('co_signal')\n",
    "\n",
    "# Get meta data of all variables\n",
    "{'==>' + key: df.meta_data(key) for key in df.full_data_names}\n",
    "\n",
    "# Only crucial info\n",
    "{'==>' + key: df.meta_data(key)['_attributes'] for key in df.full_data_names}\n"
   ]
  },
  {
   "cell_type": "code",
   "execution_count": 17,
   "metadata": {
    "jupyter": {
     "outputs_hidden": false,
     "source_hidden": false
    },
    "nteract": {
     "transient": {
      "deleting": false
     }
    }
   },
   "outputs": [
    {
     "data": {
      "text/html": [
       "<div>\n",
       "<style scoped>\n",
       "    .dataframe tbody tr th:only-of-type {\n",
       "        vertical-align: middle;\n",
       "    }\n",
       "\n",
       "    .dataframe tbody tr th {\n",
       "        vertical-align: top;\n",
       "    }\n",
       "\n",
       "    .dataframe thead th {\n",
       "        text-align: right;\n",
       "    }\n",
       "</style>\n",
       "<table border=\"1\" class=\"dataframe\">\n",
       "  <thead>\n",
       "    <tr style=\"text-align: right;\">\n",
       "      <th></th>\n",
       "      <th>beta_raw</th>\n",
       "      <th>v_raw</th>\n",
       "      <th>v_error</th>\n",
       "      <th>co_signal</th>\n",
       "      <th>cross_signal</th>\n",
       "      <th>depo_raw</th>\n",
       "      <th>co_signal_averaged</th>\n",
       "      <th>cross_signal_averaged</th>\n",
       "      <th>depo_averaged_raw</th>\n",
       "    </tr>\n",
       "  </thead>\n",
       "  <tbody>\n",
       "    <tr>\n",
       "      <td>count</td>\n",
       "      <td>1.6864e+06</td>\n",
       "      <td>1.6864e+06</td>\n",
       "      <td>8.6517e+05</td>\n",
       "      <td>1.6864e+06</td>\n",
       "      <td>1.656e+06</td>\n",
       "      <td>1.656e+06</td>\n",
       "      <td>1.5089e+05</td>\n",
       "      <td>1.5089e+05</td>\n",
       "      <td>1.5089e+05</td>\n",
       "    </tr>\n",
       "    <tr>\n",
       "      <td>mean</td>\n",
       "      <td>5.0269e-07</td>\n",
       "      <td>-0.37469</td>\n",
       "      <td>0.63624</td>\n",
       "      <td>1.0136</td>\n",
       "      <td>1.001</td>\n",
       "      <td>0.02717</td>\n",
       "      <td>1.0136</td>\n",
       "      <td>1.001</td>\n",
       "      <td>0.082565</td>\n",
       "    </tr>\n",
       "    <tr>\n",
       "      <td>std</td>\n",
       "      <td>4.0055e-06</td>\n",
       "      <td>3.7625</td>\n",
       "      <td>0.31674</td>\n",
       "      <td>0.14362</td>\n",
       "      <td>0.0093658</td>\n",
       "      <td>853.17</td>\n",
       "      <td>0.13009</td>\n",
       "      <td>0.0084732</td>\n",
       "      <td>199.15</td>\n",
       "    </tr>\n",
       "    <tr>\n",
       "      <td>min</td>\n",
       "      <td>-1.1076e-05</td>\n",
       "      <td>-18.946</td>\n",
       "      <td>0.0037261</td>\n",
       "      <td>0.99282</td>\n",
       "      <td>0.9936</td>\n",
       "      <td>-9.0147e+05</td>\n",
       "      <td>0.99763</td>\n",
       "      <td>0.99804</td>\n",
       "      <td>-45894</td>\n",
       "    </tr>\n",
       "    <tr>\n",
       "      <td>25%</td>\n",
       "      <td>-2.9248e-07</td>\n",
       "      <td>-1.8231</td>\n",
       "      <td>0.44862</td>\n",
       "      <td>0.99921</td>\n",
       "      <td>0.99916</td>\n",
       "      <td>-0.86385</td>\n",
       "      <td>0.99978</td>\n",
       "      <td>0.99977</td>\n",
       "      <td>-0.81253</td>\n",
       "    </tr>\n",
       "    <tr>\n",
       "      <td>50%</td>\n",
       "      <td>2.5706e-08</td>\n",
       "      <td>-0.5236</td>\n",
       "      <td>0.65611</td>\n",
       "      <td>1.0002</td>\n",
       "      <td>1.0001</td>\n",
       "      <td>0.050793</td>\n",
       "      <td>1.0001</td>\n",
       "      <td>1.0001</td>\n",
       "      <td>0.055489</td>\n",
       "    </tr>\n",
       "    <tr>\n",
       "      <td>75%</td>\n",
       "      <td>5.3697e-07</td>\n",
       "      <td>1.0435</td>\n",
       "      <td>0.87974</td>\n",
       "      <td>1.0013</td>\n",
       "      <td>1.0011</td>\n",
       "      <td>0.87428</td>\n",
       "      <td>1.0004</td>\n",
       "      <td>1.0004</td>\n",
       "      <td>0.82714</td>\n",
       "    </tr>\n",
       "    <tr>\n",
       "      <td>95%</td>\n",
       "      <td>2.9976e-06</td>\n",
       "      <td>6.7383</td>\n",
       "      <td>1.1116</td>\n",
       "      <td>1.0182</td>\n",
       "      <td>1.0032</td>\n",
       "      <td>5.7556</td>\n",
       "      <td>1.0206</td>\n",
       "      <td>1.0016</td>\n",
       "      <td>5.5614</td>\n",
       "    </tr>\n",
       "    <tr>\n",
       "      <td>max</td>\n",
       "      <td>0.00019629</td>\n",
       "      <td>18.816</td>\n",
       "      <td>1.1819</td>\n",
       "      <td>16.162</td>\n",
       "      <td>2.0177</td>\n",
       "      <td>3.5967e+05</td>\n",
       "      <td>12.348</td>\n",
       "      <td>1.7416</td>\n",
       "      <td>29554</td>\n",
       "    </tr>\n",
       "    <tr>\n",
       "      <td>Missing values</td>\n",
       "      <td>0</td>\n",
       "      <td>0</td>\n",
       "      <td>8.2127e+05</td>\n",
       "      <td>0</td>\n",
       "      <td>30432</td>\n",
       "      <td>30432</td>\n",
       "      <td>0</td>\n",
       "      <td>0</td>\n",
       "      <td>0</td>\n",
       "    </tr>\n",
       "  </tbody>\n",
       "</table>\n",
       "</div>"
      ],
      "text/plain": [
       "                  beta_raw      v_raw    v_error  co_signal  cross_signal  \\\n",
       "count           1.6864e+06 1.6864e+06 8.6517e+05 1.6864e+06     1.656e+06   \n",
       "mean            5.0269e-07   -0.37469    0.63624     1.0136         1.001   \n",
       "std             4.0055e-06     3.7625    0.31674    0.14362     0.0093658   \n",
       "min            -1.1076e-05    -18.946  0.0037261    0.99282        0.9936   \n",
       "25%            -2.9248e-07    -1.8231    0.44862    0.99921       0.99916   \n",
       "50%             2.5706e-08    -0.5236    0.65611     1.0002        1.0001   \n",
       "75%             5.3697e-07     1.0435    0.87974     1.0013        1.0011   \n",
       "95%             2.9976e-06     6.7383     1.1116     1.0182        1.0032   \n",
       "max             0.00019629     18.816     1.1819     16.162        2.0177   \n",
       "Missing values           0          0 8.2127e+05          0         30432   \n",
       "\n",
       "                  depo_raw  co_signal_averaged  cross_signal_averaged  \\\n",
       "count            1.656e+06          1.5089e+05             1.5089e+05   \n",
       "mean               0.02717              1.0136                  1.001   \n",
       "std                 853.17             0.13009              0.0084732   \n",
       "min            -9.0147e+05             0.99763                0.99804   \n",
       "25%               -0.86385             0.99978                0.99977   \n",
       "50%               0.050793              1.0001                 1.0001   \n",
       "75%                0.87428              1.0004                 1.0004   \n",
       "95%                 5.7556              1.0206                 1.0016   \n",
       "max             3.5967e+05              12.348                 1.7416   \n",
       "Missing values       30432                   0                      0   \n",
       "\n",
       "                depo_averaged_raw  \n",
       "count                  1.5089e+05  \n",
       "mean                     0.082565  \n",
       "std                        199.15  \n",
       "min                        -45894  \n",
       "25%                      -0.81253  \n",
       "50%                      0.055489  \n",
       "75%                       0.82714  \n",
       "95%                        5.5614  \n",
       "max                         29554  \n",
       "Missing values                  0  "
      ]
     },
     "execution_count": 17,
     "metadata": {},
     "output_type": "execute_result"
    }
   ],
   "source": [
    "# Change masking missing values from -999 to NaN\n",
    "df.unmask999()\n",
    "# Remove first three columns of data matrix due to calibration,\n",
    "# they correspond to top 3 height data\n",
    "# ask Ville for more detail\n",
    "df.filter_height()\n",
    "# Overview of data\n",
    "df.describe()\n"
   ]
  },
  {
   "cell_type": "code",
   "execution_count": 18,
   "metadata": {
    "jupyter": {
     "outputs_hidden": false,
     "source_hidden": false
    },
    "nteract": {
     "transient": {
      "deleting": false
     }
    }
   },
   "outputs": [
    {
     "name": "stderr",
     "output_type": "stream",
     "text": [
      "C:\\Users\\LV\\Desktop\\Python\\halo-lidar\\halo_data.py:54: RuntimeWarning: invalid value encountered in log10\n",
      "  val = np.log10(self.data.get(var)).transpose()\n"
     ]
    }
   ],
   "source": [
    "# Plot data\n",
    "%matplotlib qt\n",
    "df.plot(\n",
    "    variables=['beta_raw', 'v_raw', 'cross_signal', 'depo_raw', 'co_signal',\n",
    "               'cross_signal_averaged', 'depo_averaged_raw', 'co_signal_averaged'], ncol=2, size=(20, 15))\n"
   ]
  },
  {
   "cell_type": "code",
   "execution_count": 20,
   "metadata": {
    "jupyter": {
     "outputs_hidden": false,
     "source_hidden": false
    },
    "nteract": {
     "transient": {
      "deleting": false
     }
    }
   },
   "outputs": [
    {
     "data": {
      "text/plain": [
       "<matplotlib.colorbar.Colorbar at 0x1eb33a2ec08>"
      ]
     },
     "execution_count": 20,
     "metadata": {},
     "output_type": "execute_result"
    },
    {
     "name": "stdout",
     "output_type": "stream",
     "text": [
      "Chosen 381720 values\n"
     ]
    }
   ],
   "source": [
    "%matplotlib qt\n",
    "fig, ax = plt.subplots(1, 2, figsize=(24, 12))\n",
    "p = ax[0].pcolormesh(df.data['time'],\n",
    "                     df.data['range'],\n",
    "                     df.data['co_signal'].transpose(),\n",
    "                     cmap='jet', vmin=0.995, vmax=1.005)\n",
    "area = hd.area_select(df.data['time'],\n",
    "                      df.data['range'],\n",
    "                      df.data['co_signal'].transpose(),\n",
    "                      ax[0],\n",
    "                      ax[1],\n",
    "                      type='kde')\n",
    "fig.colorbar(p, ax=ax[0])"
   ]
  },
  {
   "cell_type": "code",
   "execution_count": 21,
   "metadata": {
    "jupyter": {
     "outputs_hidden": false,
     "source_hidden": false
    },
    "nteract": {
     "transient": {
      "deleting": false
     }
    }
   },
   "outputs": [
    {
     "data": {
      "text/plain": [
       "1.0041324748890474"
      ]
     },
     "execution_count": 21,
     "metadata": {},
     "output_type": "execute_result"
    }
   ],
   "source": [
    "noise = area.area - 1\n",
    "threshold = 1 + np.nanstd(noise) * 3\n",
    "\n",
    "np.nanstd(noise)\n",
    "threshold\n"
   ]
  },
  {
   "cell_type": "code",
   "execution_count": 22,
   "metadata": {
    "jupyter": {
     "outputs_hidden": false,
     "source_hidden": false
    },
    "nteract": {
     "transient": {
      "deleting": false
     }
    }
   },
   "outputs": [
    {
     "data": {
      "text/plain": [
       "<matplotlib.colorbar.Colorbar at 0x1eb33e58848>"
      ]
     },
     "execution_count": 22,
     "metadata": {},
     "output_type": "execute_result"
    },
    {
     "name": "stdout",
     "output_type": "stream",
     "text": [
      "Chosen 28122 values\n"
     ]
    }
   ],
   "source": [
    "%matplotlib qt\n",
    "fig, ax = plt.subplots(1, 2, figsize=(24, 12))\n",
    "p = ax[0].pcolormesh(df.data['time_averaged'],\n",
    "                     df.data['range'],\n",
    "                     df.data['co_signal_averaged'].transpose(),\n",
    "                     cmap='jet', vmin=0.995, vmax=1.005)\n",
    "area = hd.area_select(df.data['time_averaged'],\n",
    "                      df.data['range'],\n",
    "                      df.data['co_signal_averaged'].transpose(),\n",
    "                      ax[0],\n",
    "                      ax[1],\n",
    "                      type='kde')\n",
    "fig.colorbar(p, ax=ax[0])"
   ]
  },
  {
   "cell_type": "code",
   "execution_count": 23,
   "metadata": {
    "jupyter": {
     "outputs_hidden": false,
     "source_hidden": false
    },
    "nteract": {
     "transient": {
      "deleting": false
     }
    }
   },
   "outputs": [
    {
     "data": {
      "text/plain": [
       "1.000830159871839"
      ]
     },
     "execution_count": 23,
     "metadata": {},
     "output_type": "execute_result"
    }
   ],
   "source": [
    "noise_averaged = area.area - 1\n",
    "threshold_averaged = 1 + np.nanstd(noise_averaged) * 2\n",
    "\n",
    "threshold_averaged\n",
    "\n"
   ]
  },
  {
   "cell_type": "code",
   "execution_count": 24,
   "metadata": {
    "jupyter": {
     "outputs_hidden": false,
     "source_hidden": false
    },
    "nteract": {
     "transient": {
      "deleting": false
     }
    }
   },
   "outputs": [],
   "source": [
    "df.filter(variables=['beta_raw', 'v_raw', 'cross_signal', 'depo_raw'],\n",
    "          ref='co_signal', threshold=threshold)\n",
    "\n",
    "df.filter(variables=['cross_signal_averaged', 'depo_averaged_raw'],\n",
    "          ref='co_signal_averaged', threshold=threshold_averaged)\n"
   ]
  },
  {
   "cell_type": "code",
   "execution_count": 25,
   "metadata": {
    "jupyter": {
     "outputs_hidden": false,
     "source_hidden": false
    },
    "nteract": {
     "transient": {
      "deleting": false
     }
    }
   },
   "outputs": [],
   "source": [
    "# Plot data\n",
    "%matplotlib qt\n",
    "df.plot(\n",
    "    variables=['beta_raw', 'v_raw', 'cross_signal', 'depo_raw', 'co_signal',\n",
    "               'cross_signal_averaged', 'depo_averaged_raw', 'co_signal_averaged'], ncol=2, size=(20, 15))\n",
    "\n"
   ]
  },
  {
   "cell_type": "code",
   "execution_count": 26,
   "metadata": {
    "jupyter": {
     "outputs_hidden": false,
     "source_hidden": false
    },
    "nteract": {
     "transient": {
      "deleting": false
     }
    }
   },
   "outputs": [
    {
     "data": {
      "text/html": [
       "<div>\n",
       "<style scoped>\n",
       "    .dataframe tbody tr th:only-of-type {\n",
       "        vertical-align: middle;\n",
       "    }\n",
       "\n",
       "    .dataframe tbody tr th {\n",
       "        vertical-align: top;\n",
       "    }\n",
       "\n",
       "    .dataframe thead th {\n",
       "        text-align: right;\n",
       "    }\n",
       "</style>\n",
       "<table border=\"1\" class=\"dataframe\">\n",
       "  <thead>\n",
       "    <tr style=\"text-align: right;\">\n",
       "      <th></th>\n",
       "      <th>beta_raw</th>\n",
       "      <th>v_raw</th>\n",
       "      <th>v_error</th>\n",
       "      <th>co_signal</th>\n",
       "      <th>cross_signal</th>\n",
       "      <th>depo_raw</th>\n",
       "      <th>co_signal_averaged</th>\n",
       "      <th>cross_signal_averaged</th>\n",
       "      <th>depo_averaged_raw</th>\n",
       "    </tr>\n",
       "  </thead>\n",
       "  <tbody>\n",
       "    <tr>\n",
       "      <td>count</td>\n",
       "      <td>1.1985e+05</td>\n",
       "      <td>1.1985e+05</td>\n",
       "      <td>8.6517e+05</td>\n",
       "      <td>1.6864e+06</td>\n",
       "      <td>1.177e+05</td>\n",
       "      <td>1.177e+05</td>\n",
       "      <td>1.5089e+05</td>\n",
       "      <td>19019</td>\n",
       "      <td>19019</td>\n",
       "    </tr>\n",
       "    <tr>\n",
       "      <td>mean</td>\n",
       "      <td>6.8737e-06</td>\n",
       "      <td>-0.58196</td>\n",
       "      <td>0.63624</td>\n",
       "      <td>1.0136</td>\n",
       "      <td>1.0138</td>\n",
       "      <td>0.081916</td>\n",
       "      <td>1.0136</td>\n",
       "      <td>1.0078</td>\n",
       "      <td>0.063695</td>\n",
       "    </tr>\n",
       "    <tr>\n",
       "      <td>std</td>\n",
       "      <td>1.2718e-05</td>\n",
       "      <td>0.38772</td>\n",
       "      <td>0.31674</td>\n",
       "      <td>0.14362</td>\n",
       "      <td>0.032154</td>\n",
       "      <td>0.16467</td>\n",
       "      <td>0.13009</td>\n",
       "      <td>0.022717</td>\n",
       "      <td>0.2433</td>\n",
       "    </tr>\n",
       "    <tr>\n",
       "      <td>min</td>\n",
       "      <td>5.3393e-08</td>\n",
       "      <td>-9.8493</td>\n",
       "      <td>0.0037261</td>\n",
       "      <td>0.99282</td>\n",
       "      <td>0.99466</td>\n",
       "      <td>-1.2039</td>\n",
       "      <td>0.99763</td>\n",
       "      <td>0.99854</td>\n",
       "      <td>-1.3959</td>\n",
       "    </tr>\n",
       "    <tr>\n",
       "      <td>25%</td>\n",
       "      <td>5.5188e-07</td>\n",
       "      <td>-0.7529</td>\n",
       "      <td>0.44862</td>\n",
       "      <td>0.99921</td>\n",
       "      <td>1.0012</td>\n",
       "      <td>0.043945</td>\n",
       "      <td>0.99978</td>\n",
       "      <td>1.0001</td>\n",
       "      <td>0.026699</td>\n",
       "    </tr>\n",
       "    <tr>\n",
       "      <td>50%</td>\n",
       "      <td>2.072e-06</td>\n",
       "      <td>-0.5618</td>\n",
       "      <td>0.65611</td>\n",
       "      <td>1.0002</td>\n",
       "      <td>1.0046</td>\n",
       "      <td>0.068785</td>\n",
       "      <td>1.0001</td>\n",
       "      <td>1.0007</td>\n",
       "      <td>0.065753</td>\n",
       "    </tr>\n",
       "    <tr>\n",
       "      <td>75%</td>\n",
       "      <td>6.7244e-06</td>\n",
       "      <td>-0.4089</td>\n",
       "      <td>0.87974</td>\n",
       "      <td>1.0013</td>\n",
       "      <td>1.0153</td>\n",
       "      <td>0.11592</td>\n",
       "      <td>1.0004</td>\n",
       "      <td>1.0064</td>\n",
       "      <td>0.12219</td>\n",
       "    </tr>\n",
       "    <tr>\n",
       "      <td>95%</td>\n",
       "      <td>3.23e-05</td>\n",
       "      <td>-0.1031</td>\n",
       "      <td>1.1116</td>\n",
       "      <td>1.0182</td>\n",
       "      <td>1.0555</td>\n",
       "      <td>0.30471</td>\n",
       "      <td>1.0206</td>\n",
       "      <td>1.0396</td>\n",
       "      <td>0.44668</td>\n",
       "    </tr>\n",
       "    <tr>\n",
       "      <td>max</td>\n",
       "      <td>0.00019629</td>\n",
       "      <td>8.6111</td>\n",
       "      <td>1.1819</td>\n",
       "      <td>16.162</td>\n",
       "      <td>2.0177</td>\n",
       "      <td>27.307</td>\n",
       "      <td>12.348</td>\n",
       "      <td>1.7416</td>\n",
       "      <td>2.0797</td>\n",
       "    </tr>\n",
       "    <tr>\n",
       "      <td>Missing values</td>\n",
       "      <td>1.5666e+06</td>\n",
       "      <td>1.5666e+06</td>\n",
       "      <td>8.2127e+05</td>\n",
       "      <td>0</td>\n",
       "      <td>1.5687e+06</td>\n",
       "      <td>1.5687e+06</td>\n",
       "      <td>0</td>\n",
       "      <td>1.3187e+05</td>\n",
       "      <td>1.3187e+05</td>\n",
       "    </tr>\n",
       "  </tbody>\n",
       "</table>\n",
       "</div>"
      ],
      "text/plain": [
       "                 beta_raw      v_raw    v_error  co_signal  cross_signal  \\\n",
       "count          1.1985e+05 1.1985e+05 8.6517e+05 1.6864e+06     1.177e+05   \n",
       "mean           6.8737e-06   -0.58196    0.63624     1.0136        1.0138   \n",
       "std            1.2718e-05    0.38772    0.31674    0.14362      0.032154   \n",
       "min            5.3393e-08    -9.8493  0.0037261    0.99282       0.99466   \n",
       "25%            5.5188e-07    -0.7529    0.44862    0.99921        1.0012   \n",
       "50%             2.072e-06    -0.5618    0.65611     1.0002        1.0046   \n",
       "75%            6.7244e-06    -0.4089    0.87974     1.0013        1.0153   \n",
       "95%              3.23e-05    -0.1031     1.1116     1.0182        1.0555   \n",
       "max            0.00019629     8.6111     1.1819     16.162        2.0177   \n",
       "Missing values 1.5666e+06 1.5666e+06 8.2127e+05          0    1.5687e+06   \n",
       "\n",
       "                 depo_raw  co_signal_averaged  cross_signal_averaged  \\\n",
       "count           1.177e+05          1.5089e+05                  19019   \n",
       "mean             0.081916              1.0136                 1.0078   \n",
       "std               0.16467             0.13009               0.022717   \n",
       "min               -1.2039             0.99763                0.99854   \n",
       "25%              0.043945             0.99978                 1.0001   \n",
       "50%              0.068785              1.0001                 1.0007   \n",
       "75%               0.11592              1.0004                 1.0064   \n",
       "95%               0.30471              1.0206                 1.0396   \n",
       "max                27.307              12.348                 1.7416   \n",
       "Missing values 1.5687e+06                   0             1.3187e+05   \n",
       "\n",
       "                depo_averaged_raw  \n",
       "count                       19019  \n",
       "mean                     0.063695  \n",
       "std                        0.2433  \n",
       "min                       -1.3959  \n",
       "25%                      0.026699  \n",
       "50%                      0.065753  \n",
       "75%                       0.12219  \n",
       "95%                       0.44668  \n",
       "max                        2.0797  \n",
       "Missing values         1.3187e+05  "
      ]
     },
     "execution_count": 26,
     "metadata": {},
     "output_type": "execute_result"
    }
   ],
   "source": [
    "df.describe()\n"
   ]
  },
  {
   "cell_type": "code",
   "execution_count": null,
   "metadata": {
    "jupyter": {
     "outputs_hidden": false,
     "source_hidden": false
    },
    "nteract": {
     "transient": {
      "deleting": false
     }
    }
   },
   "outputs": [],
   "source": [
    "%matplotlib qt\n",
    "fig, ax = plt.subplots(3, 1, sharex=True, figsize=(24, 12))\n",
    "ax = ax.flatten()\n",
    "for i, name in enumerate(['depo_raw', 'beta_raw', 'v_raw']):\n",
    "    p = ax[i].pcolormesh(df.data['time'],\n",
    "                         df.data['range'],\n",
    "                         df.data[name].transpose() if name != 'beta_raw' else np.log10(\n",
    "                             df.data[name].transpose()),\n",
    "                         cmap='jet', vmin=df.cbar_lim[name][0], vmax=df.cbar_lim[name][1])\n",
    "    ax[i].set_title(name)\n",
    "    fig.colorbar(p, ax=ax[i])\n",
    "area = hd.area_select(df.data['time'],\n",
    "                      df.data['range'],\n",
    "                      df.data['depo_raw'].transpose(),\n",
    "                      ax[0],\n",
    "                      type=None)\n",
    "plt.tight_layout()"
   ]
  },
  {
   "cell_type": "code",
   "execution_count": null,
   "metadata": {
    "jupyter": {
     "outputs_hidden": false,
     "source_hidden": false
    },
    "nteract": {
     "transient": {
      "deleting": false
     }
    }
   },
   "outputs": [],
   "source": [
    "i = -1\n",
    "final_result = pd.DataFrame(columns=['time', 'range', 'SNR', 'depo'])"
   ]
  },
  {
   "cell_type": "code",
   "execution_count": null,
   "metadata": {
    "jupyter": {
     "outputs_hidden": false,
     "source_hidden": false
    },
    "nteract": {
     "transient": {
      "deleting": false
     }
    }
   },
   "outputs": [],
   "source": [
    "i += 1\n",
    "%matplotlib qt\n",
    "fig, ax = plt.subplots(figsize=(8, 5))\n",
    "area_value = area.area[:, i]\n",
    "area_range = df.data['range'][area.maskrange]\n",
    "area_snr = df.data['co_signal'].transpose()[area.mask][:, i]\n",
    "p = ax.scatter(area_value, area_range,\n",
    "               c=area_snr,\n",
    "               s=area_snr * 20)\n",
    "ax.set_title(f\"Depo value colored by SNR at time {df.data['time'][area.masktime][i]:.3f}\")\n",
    "ax.set_xlabel('Depo value')\n",
    "ax.set_ylabel('Range')\n",
    "fig.colorbar(p)\n",
    "\n"
   ]
  },
  {
   "cell_type": "code",
   "execution_count": null,
   "metadata": {
    "jupyter": {
     "outputs_hidden": false,
     "source_hidden": false
    },
    "nteract": {
     "transient": {
      "deleting": false
     }
    }
   },
   "outputs": [],
   "source": [
    "max_i = np.argmax(area_snr)\n",
    "result = pd.Series({'time': df.data['time'][area.masktime][i],\n",
    "                    'range': area_range[max_i],\n",
    "                    'SNR': area_snr[max_i],\n",
    "                    'depo': area_value[max_i]})\n",
    "result\n",
    "final_result = final_result.append(result, ignore_index=True)\n",
    "final_result\n"
   ]
  },
  {
   "cell_type": "code",
   "execution_count": null,
   "metadata": {
    "jupyter": {
     "outputs_hidden": false,
     "source_hidden": false
    },
    "nteract": {
     "transient": {
      "deleting": false
     }
    }
   },
   "outputs": [],
   "source": [
    "plt.plot(final_result['depo'], '-')\n"
   ]
  },
  {
   "cell_type": "code",
   "execution_count": null,
   "metadata": {
    "jupyter": {
     "outputs_hidden": false,
     "source_hidden": false
    },
    "nteract": {
     "transient": {
      "deleting": false
     }
    }
   },
   "outputs": [],
   "source": [
    "# Location etc\n",
    "name = [int(df.more_info.get(key)) if key != 'location' else\n",
    "        df.more_info.get(key).decode(\"utf-8\") for\n",
    "        key in ['location', 'year', 'month', 'day', 'systemID']]\n",
    "\n",
    "filename = '-'.join([str(elem) for elem in name])\n",
    "\n",
    "final_result.to_csv(filename + '.csv')\n"
   ]
  },
  {
   "cell_type": "code",
   "execution_count": 27,
   "metadata": {
    "jupyter": {
     "outputs_hidden": false,
     "source_hidden": false
    },
    "nteract": {
     "transient": {
      "deleting": false
     }
    }
   },
   "outputs": [
    {
     "name": "stdout",
     "output_type": "stream",
     "text": [
      "Chosen 48240 values\n"
     ]
    }
   ],
   "source": [
    "\n",
    "%matplotlib qt\n",
    "fig, ax = plt.subplots(2, 1, sharex=False, figsize=(24, 12))\n",
    "p = ax[0].pcolormesh(df.data['time'],\n",
    "                     df.data['range'],\n",
    "                     df.data['depo_raw'].transpose(),\n",
    "                     cmap='jet', vmin=df.cbar_lim['depo_raw'][0],\n",
    "                     vmax=df.cbar_lim['depo_raw'][1])\n",
    "me = fig.colorbar(p, ax=ax[0])\n",
    "\n",
    "area = hd.area_select(df.data['time'],\n",
    "                      df.data['range'],\n",
    "                      df.data['depo_raw'].transpose(),\n",
    "                      ax[0],\n",
    "                      ax[1],\n",
    "                      type='time_point',\n",
    "                      ref=df.data['co_signal'])\n",
    "\n",
    "final_result = pd.DataFrame(columns=['time', 'range', 'SNR', 'depo'])"
   ]
  },
  {
   "cell_type": "code",
   "execution_count": 29,
   "metadata": {
    "jupyter": {
     "outputs_hidden": false,
     "source_hidden": false
    },
    "nteract": {
     "transient": {
      "deleting": false
     }
    }
   },
   "outputs": [
    {
     "data": {
      "text/html": [
       "<div>\n",
       "<style scoped>\n",
       "    .dataframe tbody tr th:only-of-type {\n",
       "        vertical-align: middle;\n",
       "    }\n",
       "\n",
       "    .dataframe tbody tr th {\n",
       "        vertical-align: top;\n",
       "    }\n",
       "\n",
       "    .dataframe thead th {\n",
       "        text-align: right;\n",
       "    }\n",
       "</style>\n",
       "<table border=\"1\" class=\"dataframe\">\n",
       "  <thead>\n",
       "    <tr style=\"text-align: right;\">\n",
       "      <th></th>\n",
       "      <th>time</th>\n",
       "      <th>range</th>\n",
       "      <th>SNR</th>\n",
       "      <th>depo</th>\n",
       "    </tr>\n",
       "  </thead>\n",
       "  <tbody>\n",
       "    <tr>\n",
       "      <td>0</td>\n",
       "      <td>5.4208</td>\n",
       "      <td>2295</td>\n",
       "      <td>1.0031</td>\n",
       "      <td>nan</td>\n",
       "    </tr>\n",
       "    <tr>\n",
       "      <td>1</td>\n",
       "      <td>5.4478</td>\n",
       "      <td>1575</td>\n",
       "      <td>1.0042</td>\n",
       "      <td>-0.12612</td>\n",
       "    </tr>\n",
       "  </tbody>\n",
       "</table>\n",
       "</div>"
      ],
      "text/plain": [
       "    time  range    SNR     depo\n",
       "0 5.4208   2295 1.0031      nan\n",
       "1 5.4478   1575 1.0042 -0.12612"
      ]
     },
     "execution_count": 29,
     "metadata": {},
     "output_type": "execute_result"
    }
   ],
   "source": [
    "i = area.i\n",
    "area_value = area.area[:, i]\n",
    "area_range = df.data['range'][area.maskrange]\n",
    "area_snr = df.data['co_signal'].transpose()[area.mask][:, i]\n",
    "\n",
    "max_i = np.argmax(area_snr)\n",
    "result = pd.Series({'time': df.data['time'][area.masktime][i],\n",
    "                    'range': area_range[max_i],\n",
    "                    'SNR': area_snr[max_i],\n",
    "                    'depo': area_value[max_i]})\n",
    "result\n",
    "final_result = final_result.append(result, ignore_index=True)\n",
    "final_result\n"
   ]
  },
  {
   "cell_type": "code",
   "execution_count": 32,
   "metadata": {
    "jupyter": {
     "outputs_hidden": false,
     "source_hidden": false
    },
    "nteract": {
     "transient": {
      "deleting": false
     }
    }
   },
   "outputs": [
    {
     "data": {
      "text/plain": [
       "[<matplotlib.lines.Line2D at 0x1eb33bc44c8>]"
      ]
     },
     "execution_count": 32,
     "metadata": {},
     "output_type": "execute_result"
    }
   ],
   "source": [
    "plt.plot(final_result['depo'], '-')\n"
   ]
  },
  {
   "cell_type": "code",
   "execution_count": 34,
   "metadata": {
    "jupyter": {
     "outputs_hidden": false,
     "source_hidden": false
    },
    "nteract": {
     "transient": {
      "deleting": false
     }
    }
   },
   "outputs": [],
   "source": [
    "# Location etc\n",
    "name = [int(df.more_info.get(key)) if key != 'location' else\n",
    "        df.more_info.get(key).decode(\"utf-8\") for\n",
    "        key in ['location', 'year', 'month', 'day', 'systemID']]\n",
    "\n",
    "filename = '-'.join([str(elem) for elem in name])\n",
    "\n",
    "final_result.to_csv(filename + '.csv')"
   ]
  }
 ],
 "metadata": {
  "kernelspec": {
   "display_name": "Python 3",
   "language": "python",
   "name": "python3"
  },
  "language_info": {
   "codemirror_mode": {
    "name": "ipython",
    "version": 3
   },
   "file_extension": ".py",
   "mimetype": "text/x-python",
   "name": "python",
   "nbconvert_exporter": "python",
   "pygments_lexer": "ipython3",
   "version": "3.7.4"
  }
 },
 "nbformat": 4,
 "nbformat_minor": 1
}
