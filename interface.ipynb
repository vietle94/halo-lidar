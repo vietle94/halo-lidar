{
  "cells": [
    {
      "cell_type": "code",
      "source": [
        "import seaborn as sns\n",
        "import numpy as np\n",
        "import pandas as pd\n",
        "import matplotlib.pyplot as plt\n",
        "import halo_data as hd\n"
      ],
      "outputs": [],
      "execution_count": null,
      "metadata": {
        "collapsed": false,
        "jupyter": {
          "source_hidden": false,
          "outputs_hidden": false
        },
        "nteract": {
          "transient": {
            "deleting": false
          }
        }
      }
    },
    {
      "cell_type": "code",
      "source": [
        "data = hd.getdata(\"C:/Users/LV/OneDrive - University of Helsinki/FMI/halo/53/depolarization/\")\n",
        "# data = hd.getdata(\"G:/OneDrive - University of Helsinki/FMI/halo/53/depolarization/\")\n",
        "# data = hd.getdata(r'G:\\OneDrive - University of Helsinki\\FMI\\halo\\53\\depolarization')\n"
      ],
      "outputs": [],
      "execution_count": null,
      "metadata": {
        "collapsed": false,
        "jupyter": {
          "source_hidden": false,
          "outputs_hidden": false
        },
        "nteract": {
          "transient": {
            "deleting": false
          }
        }
      }
    },
    {
      "cell_type": "code",
      "source": [
        "file_name = next(data)\n",
        "df = hd.halo_data(file_name)\n",
        "df.info\n",
        "df.full_data\n",
        "df.full_data_names\n",
        "df.data\n",
        "# Names of data\n",
        "df.data_names\n",
        "# More info\n",
        "df.more_info\n",
        "# Get meta data of each variable\n",
        "df.meta_data('co_signal')\n",
        "\n",
        "# Get meta data of all variables\n",
        "{'==>' + key: df.meta_data(key) for key in df.full_data_names}\n",
        "\n",
        "# Only crucial info\n",
        "{'==>' + key: df.meta_data(key)['_attributes'] for key in df.full_data_names}\n"
      ],
      "outputs": [],
      "execution_count": null,
      "metadata": {
        "collapsed": false,
        "jupyter": {
          "source_hidden": false,
          "outputs_hidden": false
        },
        "nteract": {
          "transient": {
            "deleting": false
          }
        }
      }
    },
    {
      "cell_type": "code",
      "source": [
        "# Change masking missing values from -999 to NaN\n",
        "df.unmask999()\n",
        "# Overview of data\n",
        "df.describe()\n"
      ],
      "outputs": [],
      "execution_count": null,
      "metadata": {
        "collapsed": false,
        "jupyter": {
          "source_hidden": false,
          "outputs_hidden": false
        },
        "nteract": {
          "transient": {
            "deleting": false
          }
        }
      }
    },
    {
      "cell_type": "code",
      "source": [
        "# Plot data\n",
        "%matplotlib inline\n",
        "df.plot(\n",
        "    variables=['beta_raw', 'v_raw', 'cross_signal', 'depo_raw', 'co_signal',\n",
        "               'cross_signal_averaged', 'depo_averaged_raw', 'co_signal_averaged'], ncol=2, size=(20, 15))\n"
      ],
      "outputs": [],
      "execution_count": null,
      "metadata": {
        "collapsed": false,
        "jupyter": {
          "source_hidden": false,
          "outputs_hidden": false
        },
        "nteract": {
          "transient": {
            "deleting": false
          }
        }
      }
    },
    {
      "cell_type": "code",
      "source": [
        "%matplotlib qt\n",
        "fig, ax = plt.subplots(1, 2, figsize=(24, 24))\n",
        "p = ax[0].pcolormesh(df.data['time'],\n",
        "                     df.data['range'],\n",
        "                     df.data['co_signal'].transpose(),\n",
        "                     cmap='jet', vmin=0.995, vmax=1.005)\n",
        "area = hd.area_histogram(ax[0], ax[1], fig, df.data['time'],\n",
        "                         df.data['range'],\n",
        "                         df.data['co_signal'].transpose(),\n",
        "                         hist=False)\n",
        "fig.colorbar(p, ax=ax[0])"
      ],
      "outputs": [],
      "execution_count": null,
      "metadata": {
        "collapsed": false,
        "jupyter": {
          "source_hidden": false,
          "outputs_hidden": false
        },
        "nteract": {
          "transient": {
            "deleting": false
          }
        }
      }
    },
    {
      "cell_type": "code",
      "source": [
        "noise = area.area - 1\n",
        "threshold = 1 + np.nanmean(noise) + np.nanstd(noise) * 2\n",
        "\n",
        "threshold\n"
      ],
      "outputs": [],
      "execution_count": null,
      "metadata": {
        "collapsed": false,
        "jupyter": {
          "source_hidden": false,
          "outputs_hidden": false
        },
        "nteract": {
          "transient": {
            "deleting": false
          }
        }
      }
    },
    {
      "cell_type": "code",
      "source": [
        "%matplotlib qt\n",
        "fig, ax = plt.subplots(1, 2, figsize=(24, 24))\n",
        "p = ax[0].pcolormesh(df.data['time_averaged'],\n",
        "                     df.data['range'],\n",
        "                     df.data['co_signal_averaged'].transpose(),\n",
        "                     cmap='jet', vmin=0.995, vmax=1.005)\n",
        "area = hd.area_histogram(ax[0], ax[1], fig, df.data['time_averaged'],\n",
        "                         df.data['range'],\n",
        "                         df.data['co_signal_averaged'].transpose(),\n",
        "                         hist=False)\n",
        "fig.colorbar(p, ax=ax[0])"
      ],
      "outputs": [],
      "execution_count": null,
      "metadata": {
        "collapsed": false,
        "jupyter": {
          "source_hidden": false,
          "outputs_hidden": false
        },
        "nteract": {
          "transient": {
            "deleting": false
          }
        }
      }
    },
    {
      "cell_type": "code",
      "source": [
        "noise_averaged = area.area - 1\n",
        "threshold_averaged = 1 + np.nanmean(noise_averaged) + np.nanstd(noise_averaged) * 2\n",
        "\n",
        "threshold_averaged\n",
        "\n"
      ],
      "outputs": [],
      "execution_count": null,
      "metadata": {
        "collapsed": false,
        "jupyter": {
          "source_hidden": false,
          "outputs_hidden": false
        },
        "nteract": {
          "transient": {
            "deleting": false
          }
        }
      }
    },
    {
      "cell_type": "code",
      "source": [
        "df.filter(variables=['beta_raw', 'v_raw', 'cross_signal', 'depo_raw'],\n",
        "          ref='co_signal', threshold=threshold)\n",
        "\n",
        "df.filter(variables=['cross_signal_averaged', 'depo_averaged_raw'],\n",
        "          ref='co_signal_averaged', threshold=threshold_averaged)\n"
      ],
      "outputs": [],
      "execution_count": null,
      "metadata": {
        "collapsed": false,
        "jupyter": {
          "source_hidden": false,
          "outputs_hidden": false
        },
        "nteract": {
          "transient": {
            "deleting": false
          }
        }
      }
    },
    {
      "cell_type": "code",
      "source": [
        "# Plot data\n",
        "%matplotlib inline\n",
        "df.plot(\n",
        "    variables=['beta_raw', 'v_raw', 'cross_signal', 'depo_raw', 'co_signal',\n",
        "               'cross_signal_averaged', 'depo_averaged_raw', 'co_signal_averaged'], ncol=2, size=(20, 15))\n",
        "\n"
      ],
      "outputs": [],
      "execution_count": null,
      "metadata": {
        "collapsed": false,
        "jupyter": {
          "source_hidden": false,
          "outputs_hidden": false
        },
        "nteract": {
          "transient": {
            "deleting": false
          }
        }
      }
    },
    {
      "cell_type": "code",
      "source": [
        "df.describe()"
      ],
      "outputs": [],
      "execution_count": null,
      "metadata": {
        "collapsed": false,
        "jupyter": {
          "source_hidden": false,
          "outputs_hidden": false
        },
        "nteract": {
          "transient": {
            "deleting": false
          }
        }
      }
    }
  ],
  "metadata": {
    "kernelspec": {
      "argv": [
        "C:\\Users\\LV\\Anaconda3\\python.exe",
        "-m",
        "ipykernel_launcher",
        "-f",
        "{connection_file}"
      ],
      "display_name": "Python 3",
      "language": "python",
      "name": "python3"
    }
  },
  "nbformat": 4,
  "nbformat_minor": 0
}